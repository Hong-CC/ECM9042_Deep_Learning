{
 "cells": [
  {
   "cell_type": "code",
   "execution_count": 1,
   "metadata": {
    "ExecuteTime": {
     "end_time": "2021-04-27T15:48:02.939423Z",
     "start_time": "2021-04-27T15:48:00.509179Z"
    }
   },
   "outputs": [],
   "source": [
    "import numpy as np\n",
    "import matplotlib.pyplot as plt\n",
    "from sklearn.metrics import confusion_matrix\n",
    "import pandas as pd"
   ]
  },
  {
   "cell_type": "markdown",
   "metadata": {},
   "source": [
    "# Data Process"
   ]
  },
  {
   "cell_type": "code",
   "execution_count": 2,
   "metadata": {
    "ExecuteTime": {
     "end_time": "2021-04-27T15:48:04.986759Z",
     "start_time": "2021-04-27T15:48:04.729078Z"
    }
   },
   "outputs": [],
   "source": [
    "loaded_train = np.load(\"./problem1-DNN/train.npz\")\n",
    "loaded_test = np.load(\"./problem1-DNN/test.npz\")\n",
    "X_train, y_train = loaded_train[\"image\"].reshape(-1,784), loaded_train[\"label\"]\n",
    "X_test, y_test = loaded_test[\"image\"].reshape(-1,784), loaded_test[\"label\"]\n",
    "\n",
    "# one-hot\n",
    "y_train_labels = np.zeros((12000, 10))\n",
    "for i in range(12000):\n",
    "    y_train_labels[i, int(y_train[i])] = 1\n",
    "y_test_lables = np.zeros((5768, 10))\n",
    "for i in range(5768):\n",
    "    y_test_lables[i, int(y_test[i])] = 1\n",
    "\n",
    "X_train, y_train, X_test, y_test = X_train/255, y_train_labels, X_test/255, y_test_lables"
   ]
  },
  {
   "cell_type": "code",
   "execution_count": 3,
   "metadata": {
    "ExecuteTime": {
     "end_time": "2021-04-27T15:48:07.164047Z",
     "start_time": "2021-04-27T15:48:05.742813Z"
    }
   },
   "outputs": [
    {
     "data": {
      "image/png": "[encoded data removed]",
      "text/plain": [
       "<Figure size 432x288 with 10 Axes>"
      ]
     },
     "metadata": {
      "needs_background": "light"
     },
     "output_type": "display_data"
    }
   ],
   "source": [
    "for i in range(10):\n",
    "    plt.subplot(1,15,i+1)\n",
    "    plt.imshow(loaded_train[\"image\"][i], cmap=plt.cm.gray_r)\n",
    "    plt.title(int(loaded_train[\"label\"][i]))\n",
    "    plt.axis(\"off\")\n",
    "plt.show()\n",
    "    "
   ]
  },
  {
   "cell_type": "markdown",
   "metadata": {},
   "source": [
    "# Activation Function and Cross_entropy"
   ]
  },
  {
   "cell_type": "code",
   "execution_count": 4,
   "metadata": {
    "ExecuteTime": {
     "end_time": "2021-04-27T15:48:09.005445Z",
     "start_time": "2021-04-27T15:48:08.989367Z"
    }
   },
   "outputs": [],
   "source": [
    " # activation function\n",
    "def sigmoid(x):\n",
    "    return 1/(1 + np.exp(-x))\n",
    "\n",
    "def sigmoid_d(x):\n",
    "    return sigmoid(x) * (1-sigmoid(x))\n",
    "\n",
    "def leakyReLU(x):\n",
    "    return np.maximum(x, 0.01*x)\n",
    "\n",
    "def leakyReLU_d(x):\n",
    "    return np.where(x > 0, 1, 0.01)\n",
    "\n",
    "def softmax(x):\n",
    "    exp_x = np.exp(x - np.max(x, axis = 0))\n",
    "    return exp_x / np.sum(exp_x)\n",
    "\n",
    "# cost function\n",
    "def cross_entropy(p, q): \n",
    "    return -np.sum(np.nan_to_num((p * np.log(q))))"
   ]
  },
  {
   "cell_type": "markdown",
   "metadata": {},
   "source": [
    "# Class for DNN"
   ]
  },
  {
   "cell_type": "code",
   "execution_count": 5,
   "metadata": {
    "ExecuteTime": {
     "end_time": "2021-04-27T15:48:13.591719Z",
     "start_time": "2021-04-27T15:48:13.497912Z"
    }
   },
   "outputs": [],
   "source": [
    "class DNN:\n",
    "    def __init__(self, units, initialization = \"normal\", \n",
    "                 activation_function = leakyReLU, activation_function_derivative = leakyReLU_d):\n",
    "        self.layers = len(units)\n",
    "        self.units = units\n",
    "        self.act_fun = activation_function\n",
    "        self.act_fun_d = activation_function_derivative\n",
    "        \n",
    "        # initialization biases and weights\n",
    "        if initialization == \"normal\":\n",
    "            self.biases = [np.random.normal(0, 0.001, size = (1, y)) for y in units[1:]]\n",
    "            self.weights = [np.random.normal(0, 0.001, size = (x, y)) for x, y in zip(units[:-1], units[1:])]\n",
    "        if initialization == \"zero\":\n",
    "            self.biases = [np.zeros((1, y)) for y in units[1:]]\n",
    "            self.weights = [np.zeros((x , y)) for x, y in zip(units[:-1], units[1:])]\n",
    "        if initialization == \"uniform\":\n",
    "            self.biases = [np.random.uniform(-1/np.sqrt(784), 1/np.sqrt(784), size = (1, y)) \\\n",
    "                           for y in units[1:]]\n",
    "            self.weights = [np.random.uniform(-1/np.sqrt(784), 1/np.sqrt(784), size = (x, y)) \\\n",
    "                            for x, y in zip(units[:-1], units[1:])]  \n",
    "        if initialization == \"normal_01\":\n",
    "            self.biases = [np.random.normal(0, 1, size = (1, y)) for y in units[1:]]\n",
    "            self.weights = [np.random.normal(0, 1, size = (x, y)) for x, y in zip(units[:-1], units[1:])]\n",
    "        \n",
    "        # save information\n",
    "        self.training_error = []\n",
    "        self.testing_error = []\n",
    "        self.training_loss = []\n",
    "\n",
    "#=====training data and update parameters=====#\n",
    "    def train(self, X_train, y_train ,epochs, m, learning_rate, X_test , y_test , Adam = False):\n",
    "        self.m = m\n",
    "        self.t = 0\n",
    "        train_size = len(X_train)\n",
    "        testing_size = len(X_test)\n",
    "        \n",
    "        for epoch in range(epochs):\n",
    "            if Adam:\n",
    "                # initialize parameters for adam every epoch\n",
    "                self.m_w = [np.zeros((x , y)) for x, y in zip(self.units[:-1], self.units[1:])]\n",
    "                self.v_w = [np.zeros((x , y)) for x, y in zip(self.units[:-1], self.units[1:])]\n",
    "                self.m_b = [np.zeros((1, y)) for y in self.units[1:]]\n",
    "                self.v_b = [np.zeros((1, y)) for y in self.units[1:]]\n",
    "                self.m += 1\n",
    "                \n",
    "            # random select m data\n",
    "            ind = np.random.permutation(range(len(X_train)))\n",
    "            for i in range(0, train_size, m):\n",
    "                mini_batch_ind = ind[i : i+m]\n",
    "                X_mini_batch = X_train[mini_batch_ind]\n",
    "                y_mini_batch = y_train[mini_batch_ind]\n",
    "                \n",
    "                # caculate delta with mini_batch\n",
    "                gradient_w, gradient_b = self.backProp(X_mini_batch, y_mini_batch)\n",
    "                \n",
    "                # update weights and biases\n",
    "                if Adam:\n",
    "                    ms_w, vs_w, ms_b, vs_b = self.adam(gradient_w, gradient_b)\n",
    "                    for l, m_w, v_w, m_b, v_b in zip(range(self.layers-1), ms_w, vs_w, ms_b, vs_b ):\n",
    "                        self.weights[l] -= learning_rate * (m_w/(np.sqrt(v_w) + 10e-8))\n",
    "                        self.biases[l] -= learning_rate * (m_b/(np.sqrt(v_b) + 10e-8)) \n",
    "                    \n",
    "                # update weights and biases\n",
    "                else:\n",
    "                    for l, w, b in zip(range(self.layers),gradient_w, gradient_b):\n",
    "                        self.weights[l] -= learning_rate * w\n",
    "                        self.biases[l] -= learning_rate  * b  \n",
    "                        \n",
    "            self.training_error.append(self.countError(X_train, y_train))\n",
    "            self.testing_error.append(self.countError(X_test, y_test))\n",
    "            self.training_loss.append(self.countLoss(X_train, y_train))                \n",
    "\n",
    "            print(\"+++Epoch+++ %d / %d\" %(epoch, epochs), end = '\\r')                    \n",
    "            # save info for every epoch\n",
    "            if ((epoch+1) % 10) == 0:            \n",
    "                print(\"===Epoch \",epoch+1,\"===\")\n",
    "                print(\"Training Error: %f, Training Loss: %f, Testing Error: %f\"\n",
    "                     %(self.training_error[-1], self.training_loss[-1], self.testing_error[-1]))\n",
    "\n",
    "    def feedForward(self, x):\n",
    "        for w, b in zip(self.weights, self.biases):\n",
    "            z = np.dot(x, w) + b\n",
    "            x = self.act_fun(z)\n",
    "        output = np.apply_along_axis(softmax, 1, z)\n",
    "        return output\n",
    "\n",
    "#=====backprop=====#\n",
    "    def backProp(self, x, y):\n",
    "        \n",
    "        # forward pass\n",
    "        self.a_layers = [x]\n",
    "        self.z_layers = []\n",
    "        for w, b in zip(self.weights, self.biases):\n",
    "            z = np.dot(x, w) + b\n",
    "            self.z_layers.append(z)\n",
    "            x = self.act_fun(z)\n",
    "            self.a_layers.append(x)\n",
    "        output_layer = np.apply_along_axis(softmax, 1, z)           \n",
    "                \n",
    "        # back pass\n",
    "        # calculate last delta(delta_L) fitst with cross entropy\n",
    "        delta = (output_layer-y) * self.act_fun_d(self.z_layers[-1])\n",
    "        delta_layers = [delta]\n",
    "        \n",
    "        # caculate delta of L-1, L-2 ..., 2 layers\n",
    "        for layer in range(self.layers-1, 1, -1):\n",
    "            delta_l = np.dot(delta_layers[-1], self.weights[layer-1].T) * self.act_fun_d(self.z_layers[layer-2])\n",
    "            delta_layers.append(delta_l) # layer of delta will be L, L-1, L-2\n",
    "        delta_layers.reverse() # 2, 3, ..., L\n",
    "        \n",
    "        gradient_w = [(1/self.m) * np.dot(self.a_layers[layer].T, d) for (layer, d) in enumerate(delta_layers)]\n",
    "        gradient_b = [(1/self.m) * d.sum(0).reshape(1, -1) for d in delta_layers]\n",
    "            \n",
    "        return (gradient_w, gradient_b)\n",
    "\n",
    "#=====Adam=====#\n",
    "    def adam(self, gradient_w, gradient_b):\n",
    "    # parameter\n",
    "        beta_1 = 0.9\n",
    "        beta_2 = 0.999\n",
    "        self.t += 1\n",
    "\n",
    "        # caculate for weights\n",
    "        for l, w, b in zip(range(self.layers), gradient_w, gradient_b):\n",
    "            self.m_w[l] = (beta_1 * self.m_w[l] + (1 - beta_1) * w) / (1-beta_1**self.t)\n",
    "            self.v_w[l] = (beta_2 * self.v_w[l] + (1 - beta_2) * (w * w))  / (1-beta_2**self.t)\n",
    "            self.m_b[l] = (beta_1 * self.m_b[l] + (1 - beta_1) * b) / (1-beta_1**self.t)\n",
    "            self.v_b[l] = (beta_2 * self.v_b[l] + (1 - beta_2) * (b * b)) / (1-beta_2**self.t)    \n",
    "\n",
    "        return (self.m_w, self.v_w, self.m_b, self.v_b)\n",
    "\n",
    "    def countError(self, x, y):\n",
    "        # count error number\n",
    "        yhat = np.argmax(self.feedForward(x),axis = 1)\n",
    "        truth = np.argmax(y, axis = 1)\n",
    "        return (yhat != truth).mean()\n",
    "    \n",
    "    def countLoss(self, x, y):\n",
    "        return cross_entropy(y, self.feedForward(x))\n",
    " "
   ]
  },
  {
   "cell_type": "markdown",
   "metadata": {},
   "source": [
    "# Function to Plot Error"
   ]
  },
  {
   "cell_type": "code",
   "execution_count": 6,
   "metadata": {
    "ExecuteTime": {
     "end_time": "2021-04-27T15:48:16.241735Z",
     "start_time": "2021-04-27T15:48:16.234760Z"
    }
   },
   "outputs": [],
   "source": [
    "def polot_error(model):\n",
    "    plt.plot(model.training_error, label = \"Train\")\n",
    "    plt.plot(model.testing_error, label = \"Test\")\n",
    "    plt.legend()\n",
    "    plt.show()"
   ]
  },
  {
   "cell_type": "markdown",
   "metadata": {},
   "source": [
    "# Function to Plot Latent Features"
   ]
  },
  {
   "cell_type": "code",
   "execution_count": 7,
   "metadata": {
    "ExecuteTime": {
     "end_time": "2021-04-27T15:48:18.213690Z",
     "start_time": "2021-04-27T15:48:18.192747Z"
    }
   },
   "outputs": [],
   "source": [
    "def plot_latent_features(x, y, model, activation_function):   \n",
    "    z_layers = []\n",
    "    for w, b in zip(model.weights, model.biases):\n",
    "        z = np.dot(x, w) + b\n",
    "        z_layers.append(z)\n",
    "        x = activation_function(z)\n",
    "    z_latent = z_layers[-2].T\n",
    "    # plot\n",
    "    fig, ax = plt.subplots()\n",
    "    scatter = ax.scatter(z_latent[0], z_latent[1], c=np.argmax(y, axis = 1))\n",
    "    legend = ax.legend(*scatter.legend_elements(),\n",
    "                        loc=\"best\", title=\"Ground truth\")\n",
    "    ax.add_artist(legend)\n",
    "    plt.show()\n"
   ]
  },
  {
   "cell_type": "markdown",
   "metadata": {},
   "source": [
    "# Function to Show Confusion_matrix"
   ]
  },
  {
   "cell_type": "code",
   "execution_count": 8,
   "metadata": {
    "ExecuteTime": {
     "end_time": "2021-04-27T15:48:22.173058Z",
     "start_time": "2021-04-27T15:48:22.158096Z"
    }
   },
   "outputs": [],
   "source": [
    "def cfm(x, y ,model):\n",
    "    yhat = np.argmax(model.feedForward(x),axis=1)\n",
    "    ytrue = np.argmax(y, axis = 1)\n",
    "    matrix = confusion_matrix(y_pred=yhat, y_true=ytrue)\n",
    "    df_cfm = pd.DataFrame(\n",
    "        matrix,\n",
    "        index = [0,1,2,3,4,5,6,7,8,9],\n",
    "        columns = [0,1,2,3,4,5,6,7,8,9]\n",
    "    )\n",
    "    print(df_cfm)\n",
    "    print(\"Accuracy: \", matrix.diagonal().sum()/matrix.sum())    "
   ]
  },
  {
   "cell_type": "code",
   "execution_count": null,
   "metadata": {
    "ExecuteTime": {
     "start_time": "2021-04-27T15:48:37.059Z"
    }
   },
   "outputs": [
    {
     "name": "stdout",
     "output_type": "stream",
     "text": [
      "===Epoch  10 ===250\n",
      "Training Error: 0.810583, Training Loss: 25531.592595, Testing Error: 0.815187\n",
      "===Epoch  20 === 250\n",
      "Training Error: 0.257667, Training Loss: 8675.458915, Testing Error: 0.266123\n",
      "===Epoch  30 === 250\n",
      "Training Error: 0.728000, Training Loss: 24586.079637, Testing Error: 0.733530\n",
      "===Epoch  40 === 250\n",
      "Training Error: 0.562083, Training Loss: 18362.684461, Testing Error: 0.562587\n",
      "===Epoch  50 === 250\n",
      "Training Error: 0.563250, Training Loss: 18541.250725, Testing Error: 0.560680\n",
      "===Epoch  60 === 250\n",
      "Training Error: 0.470083, Training Loss: 18744.329171, Testing Error: 0.478675\n",
      "===Epoch  70 === 250\n",
      "Training Error: 0.317833, Training Loss: 10874.117391, Testing Error: 0.318655\n",
      "===Epoch  80 === 250\n",
      "Training Error: 0.254917, Training Loss: 8162.648851, Testing Error: 0.252947\n",
      "===Epoch  90 === 250\n",
      "Training Error: 0.172750, Training Loss: 5807.234004, Testing Error: 0.178051\n",
      "===Epoch  100 ===250\n",
      "Training Error: 0.144917, Training Loss: 5281.853413, Testing Error: 0.158114\n",
      "===Epoch  110 === 250\n",
      "Training Error: 0.112333, Training Loss: 4039.097630, Testing Error: 0.126560\n",
      "===Epoch  120 === 250\n",
      "Training Error: 0.080750, Training Loss: 3104.286988, Testing Error: 0.098301\n",
      "===Epoch  130 === 250\n",
      "Training Error: 0.065667, Training Loss: 2825.469743, Testing Error: 0.083391\n",
      "===Epoch  140 === 250\n",
      "Training Error: 0.154000, Training Loss: 6243.120590, Testing Error: 0.166782\n",
      "===Epoch  150 === 250\n",
      "Training Error: 0.053000, Training Loss: 2337.041929, Testing Error: 0.074376\n",
      "===Epoch  160 === 250\n",
      "Training Error: 0.072417, Training Loss: 2784.508620, Testing Error: 0.093100\n",
      "===Epoch  170 === 250\n",
      "Training Error: 0.051083, Training Loss: 2154.712207, Testing Error: 0.075416\n",
      "===Epoch  180 === 250\n",
      "Training Error: 0.039167, Training Loss: 1864.603386, Testing Error: 0.064494\n",
      "===Epoch  190 === 250\n",
      "Training Error: 0.038667, Training Loss: 1750.437923, Testing Error: 0.064667\n",
      "===Epoch  200 === 250\n",
      "Training Error: 0.041000, Training Loss: 1754.579775, Testing Error: 0.067094\n",
      "===Epoch  210 === 250\n",
      "Training Error: 0.034083, Training Loss: 1601.688139, Testing Error: 0.062760\n",
      "+++Epoch+++ 210 / 250\r"
     ]
    }
   ],
   "source": [
    "np.random.seed(42)\n",
    "L4 = DNN([784,512,128,10],initialization=\"normal\", \n",
    "           activation_function=leakyReLU, activation_function_derivative=leakyReLU_d)\n",
    "L4.train(X_train, y_train, epochs= 250, m= 500, learning_rate= 1, X_test = X_test,y_test= y_test)"
   ]
  },
  {
   "cell_type": "code",
   "execution_count": 21,
   "metadata": {
    "jupyter": {
     "outputs_hidden": true
    }
   },
   "outputs": [
    {
     "name": "stdout",
     "output_type": "stream",
     "text": [
      "===Epoch  10 ===250\n",
      "Training Error:  0.4871666666666667\n",
      "Training Loss:  14331.128627525006\n",
      "Testing Error:   0.4786754507628294\n",
      "===Epoch  20 === 250\n",
      "Training Error:  0.24641666666666667\n",
      "Training Loss:  8452.093221933641\n",
      "Testing Error:   0.24965325936199723\n",
      "===Epoch  30 === 250\n",
      "Training Error:  0.09016666666666667\n",
      "Training Loss:  3524.43015725268\n",
      "Testing Error:   0.10211511789181692\n",
      "===Epoch  40 === 250\n",
      "Training Error:  0.036833333333333336\n",
      "Training Loss:  1530.838714300355\n",
      "Testing Error:   0.05617198335644938\n",
      "===Epoch  50 === 250\n",
      "Training Error:  0.063\n",
      "Training Loss:  2690.365111503666\n",
      "Testing Error:   0.08339112343966713\n",
      "===Epoch  60 === 250\n",
      "Training Error:  0.025333333333333333\n",
      "Training Loss:  1017.9304885185117\n",
      "Testing Error:   0.055825242718446605\n",
      "===Epoch  70 === 250\n",
      "Training Error:  0.013666666666666667\n",
      "Training Loss:  486.9647385670422\n",
      "Testing Error:   0.045943134535367545\n",
      "===Epoch  80 === 250\n",
      "Training Error:  0.00425\n",
      "Training Loss:  178.07335587208317\n",
      "Testing Error:   0.030513176144244106\n",
      "===Epoch  90 === 250\n",
      "Training Error:  0.010833333333333334\n",
      "Training Loss:  491.6922904799402\n",
      "Testing Error:   0.045943134535367545\n",
      "===Epoch  100 ===250\n",
      "Training Error:  0.0005833333333333334\n",
      "Training Loss:  18.274294061225064\n",
      "Testing Error:   0.02721914008321775\n",
      "===Epoch  110 === 250\n",
      "Training Error:  0.0013333333333333333\n",
      "Training Loss:  62.297771140881\n",
      "Testing Error:   0.03536754507628294\n",
      "===Epoch  120 === 250\n",
      "Training Error:  0.006\n",
      "Training Loss:  420.1964572164482\n",
      "Testing Error:   0.03796809986130374\n",
      "===Epoch  130 === 250\n",
      "Training Error:  0.0013333333333333333\n",
      "Training Loss:  60.64180593988359\n",
      "Testing Error:   0.032246879334257975\n",
      "===Epoch  140 === 250\n",
      "Training Error:  0.00275\n",
      "Training Loss:  184.39271680495162\n",
      "Testing Error:   0.030166435506241332\n",
      "===Epoch  150 === 250\n",
      "Training Error:  0.0019166666666666666\n",
      "Training Loss:  133.15537332329797\n",
      "Testing Error:   0.03138002773925104\n",
      "===Epoch  160 === 250\n",
      "Training Error:  0.0010833333333333333\n",
      "Training Loss:  119.26618683190604\n",
      "Testing Error:   0.02721914008321775\n",
      "===Epoch  170 === 250\n",
      "Training Error:  0.0035833333333333333\n",
      "Training Loss:  305.79725480803575\n",
      "Testing Error:   0.03311373092926491\n",
      "===Epoch  180 === 250\n",
      "Training Error:  0.003\n",
      "Training Loss:  245.4737353687851\n",
      "Testing Error:   0.03536754507628294\n",
      "===Epoch  190 === 250\n",
      "Training Error:  0.00275\n",
      "Training Loss:  269.9012576605855\n",
      "Testing Error:   0.036061026352288486\n",
      "===Epoch  200 === 250\n",
      "Training Error:  0.0019166666666666666\n",
      "Training Loss:  208.61803112086758\n",
      "Testing Error:   0.037274618585298194\n",
      "===Epoch  210 === 250\n",
      "Training Error:  0.0005\n",
      "Training Loss:  55.48354991229747\n",
      "Testing Error:   0.024965325936199722\n",
      "===Epoch  220 === 250\n",
      "Training Error:  0.00016666666666666666\n",
      "Training Loss:  67.55641174094352\n",
      "Testing Error:   0.027739251040221916\n",
      "===Epoch  230 === 250\n",
      "Training Error:  0.00016666666666666666\n",
      "Training Loss:  24.281679576995884\n",
      "Testing Error:   0.02721914008321775\n",
      "===Epoch  240 === 250\n",
      "Training Error:  8.333333333333333e-05\n",
      "Training Loss:  49.94324090082824\n",
      "Testing Error:   0.026352288488210817\n",
      "===Epoch  250 === 250\n",
      "Training Error:  8.333333333333333e-05\n",
      "Training Loss:  32.933075261763335\n",
      "Testing Error:   0.028259361997226076\n"
     ]
    }
   ],
   "source": [
    "np.random.seed(42)\n",
    "L4_a = DNN([784,512,128,10],initialization=\"normal\", \n",
    "           activation_function=leakyReLU, activation_function_derivative=leakyReLU_d)\n",
    "L4_a.train(X_train, y_train, epochs= 250, m= 500, learning_rate= 0.001, X_test = X_test,y_test= y_test, Adam = True)"
   ]
  },
  {
   "cell_type": "code",
   "execution_count": 31,
   "metadata": {
    "collapsed": true,
    "jupyter": {
     "outputs_hidden": true
    }
   },
   "outputs": [
    {
     "name": "stdout",
     "output_type": "stream",
     "text": [
      "===Epoch  10 ===250\n",
      "Training Error:  0.042\n",
      "Training Loss:  1614.6495301364466\n",
      "Testing Error:   0.06223994452149792\n",
      "+++Epoch+++ 11 / 250\r"
     ]
    },
    {
     "ename": "KeyboardInterrupt",
     "evalue": "",
     "output_type": "error",
     "traceback": [
      "\u001b[1;31m---------------------------------------------------------------------------\u001b[0m",
      "\u001b[1;31mKeyboardInterrupt\u001b[0m                         Traceback (most recent call last)",
      "\u001b[1;32m<ipython-input-31-003bd2d2bee7>\u001b[0m in \u001b[0;36m<module>\u001b[1;34m\u001b[0m\n\u001b[0;32m      2\u001b[0m L3 = DNN([784,512,10],initialization=\"normal\", \n\u001b[0;32m      3\u001b[0m            activation_function=leakyReLU, activation_function_derivative=leakyReLU_d)\n\u001b[1;32m----> 4\u001b[1;33m \u001b[0mL3\u001b[0m\u001b[1;33m.\u001b[0m\u001b[0mtrain\u001b[0m\u001b[1;33m(\u001b[0m\u001b[0mX_train\u001b[0m\u001b[1;33m,\u001b[0m \u001b[0my_train\u001b[0m\u001b[1;33m,\u001b[0m \u001b[0mepochs\u001b[0m\u001b[1;33m=\u001b[0m \u001b[1;36m250\u001b[0m\u001b[1;33m,\u001b[0m \u001b[0mm\u001b[0m\u001b[1;33m=\u001b[0m \u001b[1;36m500\u001b[0m\u001b[1;33m,\u001b[0m \u001b[0mlearning_rate\u001b[0m\u001b[1;33m=\u001b[0m \u001b[1;36m1\u001b[0m\u001b[1;33m,\u001b[0m \u001b[0mX_test\u001b[0m \u001b[1;33m=\u001b[0m \u001b[0mX_test\u001b[0m\u001b[1;33m,\u001b[0m\u001b[0my_test\u001b[0m\u001b[1;33m=\u001b[0m \u001b[0my_test\u001b[0m\u001b[1;33m)\u001b[0m\u001b[1;33m\u001b[0m\u001b[1;33m\u001b[0m\u001b[0m\n\u001b[0m",
      "\u001b[1;32m<ipython-input-7-bb195527a42d>\u001b[0m in \u001b[0;36mtrain\u001b[1;34m(self, X_train, y_train, epochs, m, learning_rate, X_test, y_test, Adam)\u001b[0m\n\u001b[0;32m     65\u001b[0m                         \u001b[0mself\u001b[0m\u001b[1;33m.\u001b[0m\u001b[0mbiases\u001b[0m\u001b[1;33m[\u001b[0m\u001b[0ml\u001b[0m\u001b[1;33m]\u001b[0m \u001b[1;33m-=\u001b[0m \u001b[0mlearning_rate\u001b[0m  \u001b[1;33m*\u001b[0m \u001b[0mb\u001b[0m\u001b[1;33m\u001b[0m\u001b[1;33m\u001b[0m\u001b[0m\n\u001b[0;32m     66\u001b[0m \u001b[1;33m\u001b[0m\u001b[0m\n\u001b[1;32m---> 67\u001b[1;33m             \u001b[0mself\u001b[0m\u001b[1;33m.\u001b[0m\u001b[0mtraining_error\u001b[0m\u001b[1;33m.\u001b[0m\u001b[0mappend\u001b[0m\u001b[1;33m(\u001b[0m\u001b[0mself\u001b[0m\u001b[1;33m.\u001b[0m\u001b[0mcountError\u001b[0m\u001b[1;33m(\u001b[0m\u001b[0mX_train\u001b[0m\u001b[1;33m,\u001b[0m \u001b[0my_train\u001b[0m\u001b[1;33m)\u001b[0m\u001b[1;33m)\u001b[0m\u001b[1;33m\u001b[0m\u001b[1;33m\u001b[0m\u001b[0m\n\u001b[0m\u001b[0;32m     68\u001b[0m             \u001b[0mself\u001b[0m\u001b[1;33m.\u001b[0m\u001b[0mtesting_error\u001b[0m\u001b[1;33m.\u001b[0m\u001b[0mappend\u001b[0m\u001b[1;33m(\u001b[0m\u001b[0mself\u001b[0m\u001b[1;33m.\u001b[0m\u001b[0mcountError\u001b[0m\u001b[1;33m(\u001b[0m\u001b[0mX_test\u001b[0m\u001b[1;33m,\u001b[0m \u001b[0my_test\u001b[0m\u001b[1;33m)\u001b[0m\u001b[1;33m)\u001b[0m\u001b[1;33m\u001b[0m\u001b[1;33m\u001b[0m\u001b[0m\n\u001b[0;32m     69\u001b[0m             \u001b[0mself\u001b[0m\u001b[1;33m.\u001b[0m\u001b[0mtraining_loss\u001b[0m\u001b[1;33m.\u001b[0m\u001b[0mappend\u001b[0m\u001b[1;33m(\u001b[0m\u001b[0mself\u001b[0m\u001b[1;33m.\u001b[0m\u001b[0mcountLoss\u001b[0m\u001b[1;33m(\u001b[0m\u001b[0mX_train\u001b[0m\u001b[1;33m,\u001b[0m \u001b[0my_train\u001b[0m\u001b[1;33m)\u001b[0m\u001b[1;33m)\u001b[0m\u001b[1;33m\u001b[0m\u001b[1;33m\u001b[0m\u001b[0m\n",
      "\u001b[1;32m<ipython-input-7-bb195527a42d>\u001b[0m in \u001b[0;36mcountError\u001b[1;34m(self, x, y)\u001b[0m\n\u001b[0;32m    131\u001b[0m     \u001b[1;32mdef\u001b[0m \u001b[0mcountError\u001b[0m\u001b[1;33m(\u001b[0m\u001b[0mself\u001b[0m\u001b[1;33m,\u001b[0m \u001b[0mx\u001b[0m\u001b[1;33m,\u001b[0m \u001b[0my\u001b[0m\u001b[1;33m)\u001b[0m\u001b[1;33m:\u001b[0m\u001b[1;33m\u001b[0m\u001b[1;33m\u001b[0m\u001b[0m\n\u001b[0;32m    132\u001b[0m         \u001b[1;31m# count error number\u001b[0m\u001b[1;33m\u001b[0m\u001b[1;33m\u001b[0m\u001b[1;33m\u001b[0m\u001b[0m\n\u001b[1;32m--> 133\u001b[1;33m         \u001b[0myhat\u001b[0m \u001b[1;33m=\u001b[0m \u001b[0mnp\u001b[0m\u001b[1;33m.\u001b[0m\u001b[0margmax\u001b[0m\u001b[1;33m(\u001b[0m\u001b[0mself\u001b[0m\u001b[1;33m.\u001b[0m\u001b[0mfeedForward\u001b[0m\u001b[1;33m(\u001b[0m\u001b[0mx\u001b[0m\u001b[1;33m)\u001b[0m\u001b[1;33m,\u001b[0m\u001b[0maxis\u001b[0m \u001b[1;33m=\u001b[0m \u001b[1;36m1\u001b[0m\u001b[1;33m)\u001b[0m\u001b[1;33m\u001b[0m\u001b[1;33m\u001b[0m\u001b[0m\n\u001b[0m\u001b[0;32m    134\u001b[0m         \u001b[0mtruth\u001b[0m \u001b[1;33m=\u001b[0m \u001b[0mnp\u001b[0m\u001b[1;33m.\u001b[0m\u001b[0margmax\u001b[0m\u001b[1;33m(\u001b[0m\u001b[0my\u001b[0m\u001b[1;33m,\u001b[0m \u001b[0maxis\u001b[0m \u001b[1;33m=\u001b[0m \u001b[1;36m1\u001b[0m\u001b[1;33m)\u001b[0m\u001b[1;33m\u001b[0m\u001b[1;33m\u001b[0m\u001b[0m\n\u001b[0;32m    135\u001b[0m         \u001b[1;32mreturn\u001b[0m \u001b[1;33m(\u001b[0m\u001b[0myhat\u001b[0m \u001b[1;33m!=\u001b[0m \u001b[0mtruth\u001b[0m\u001b[1;33m)\u001b[0m\u001b[1;33m.\u001b[0m\u001b[0mmean\u001b[0m\u001b[1;33m(\u001b[0m\u001b[1;33m)\u001b[0m\u001b[1;33m\u001b[0m\u001b[1;33m\u001b[0m\u001b[0m\n",
      "\u001b[1;32m<ipython-input-7-bb195527a42d>\u001b[0m in \u001b[0;36mfeedForward\u001b[1;34m(self, x)\u001b[0m\n\u001b[0;32m     81\u001b[0m             \u001b[0mz\u001b[0m \u001b[1;33m=\u001b[0m \u001b[0mnp\u001b[0m\u001b[1;33m.\u001b[0m\u001b[0mdot\u001b[0m\u001b[1;33m(\u001b[0m\u001b[0mx\u001b[0m\u001b[1;33m,\u001b[0m \u001b[0mw\u001b[0m\u001b[1;33m)\u001b[0m \u001b[1;33m+\u001b[0m \u001b[0mb\u001b[0m\u001b[1;33m\u001b[0m\u001b[1;33m\u001b[0m\u001b[0m\n\u001b[0;32m     82\u001b[0m             \u001b[0mx\u001b[0m \u001b[1;33m=\u001b[0m \u001b[0mself\u001b[0m\u001b[1;33m.\u001b[0m\u001b[0mact_fun\u001b[0m\u001b[1;33m(\u001b[0m\u001b[0mz\u001b[0m\u001b[1;33m)\u001b[0m\u001b[1;33m\u001b[0m\u001b[1;33m\u001b[0m\u001b[0m\n\u001b[1;32m---> 83\u001b[1;33m         \u001b[0moutput\u001b[0m \u001b[1;33m=\u001b[0m \u001b[0mnp\u001b[0m\u001b[1;33m.\u001b[0m\u001b[0mapply_along_axis\u001b[0m\u001b[1;33m(\u001b[0m\u001b[0msoftmax\u001b[0m\u001b[1;33m,\u001b[0m \u001b[1;36m1\u001b[0m\u001b[1;33m,\u001b[0m \u001b[0mz\u001b[0m\u001b[1;33m)\u001b[0m\u001b[1;33m\u001b[0m\u001b[1;33m\u001b[0m\u001b[0m\n\u001b[0m\u001b[0;32m     84\u001b[0m         \u001b[1;32mreturn\u001b[0m \u001b[0moutput\u001b[0m\u001b[1;33m\u001b[0m\u001b[1;33m\u001b[0m\u001b[0m\n\u001b[0;32m     85\u001b[0m \u001b[1;33m\u001b[0m\u001b[0m\n",
      "\u001b[1;32m~\\Anaconda3\\lib\\site-packages\\numpy\\lib\\shape_base.py\u001b[0m in \u001b[0;36mapply_along_axis\u001b[1;34m(func1d, axis, arr, *args, **kwargs)\u001b[0m\n\u001b[0;32m    401\u001b[0m     \u001b[0mbuff\u001b[0m\u001b[1;33m[\u001b[0m\u001b[0mind0\u001b[0m\u001b[1;33m]\u001b[0m \u001b[1;33m=\u001b[0m \u001b[0mres\u001b[0m\u001b[1;33m\u001b[0m\u001b[1;33m\u001b[0m\u001b[0m\n\u001b[0;32m    402\u001b[0m     \u001b[1;32mfor\u001b[0m \u001b[0mind\u001b[0m \u001b[1;32min\u001b[0m \u001b[0minds\u001b[0m\u001b[1;33m:\u001b[0m\u001b[1;33m\u001b[0m\u001b[1;33m\u001b[0m\u001b[0m\n\u001b[1;32m--> 403\u001b[1;33m         \u001b[0mbuff\u001b[0m\u001b[1;33m[\u001b[0m\u001b[0mind\u001b[0m\u001b[1;33m]\u001b[0m \u001b[1;33m=\u001b[0m \u001b[0masanyarray\u001b[0m\u001b[1;33m(\u001b[0m\u001b[0mfunc1d\u001b[0m\u001b[1;33m(\u001b[0m\u001b[0minarr_view\u001b[0m\u001b[1;33m[\u001b[0m\u001b[0mind\u001b[0m\u001b[1;33m]\u001b[0m\u001b[1;33m,\u001b[0m \u001b[1;33m*\u001b[0m\u001b[0margs\u001b[0m\u001b[1;33m,\u001b[0m \u001b[1;33m**\u001b[0m\u001b[0mkwargs\u001b[0m\u001b[1;33m)\u001b[0m\u001b[1;33m)\u001b[0m\u001b[1;33m\u001b[0m\u001b[1;33m\u001b[0m\u001b[0m\n\u001b[0m\u001b[0;32m    404\u001b[0m \u001b[1;33m\u001b[0m\u001b[0m\n\u001b[0;32m    405\u001b[0m     \u001b[1;32mif\u001b[0m \u001b[1;32mnot\u001b[0m \u001b[0misinstance\u001b[0m\u001b[1;33m(\u001b[0m\u001b[0mres\u001b[0m\u001b[1;33m,\u001b[0m \u001b[0mmatrix\u001b[0m\u001b[1;33m)\u001b[0m\u001b[1;33m:\u001b[0m\u001b[1;33m\u001b[0m\u001b[1;33m\u001b[0m\u001b[0m\n",
      "\u001b[1;32m<ipython-input-6-552381a9a4bf>\u001b[0m in \u001b[0;36msoftmax\u001b[1;34m(x)\u001b[0m\n\u001b[0;32m     13\u001b[0m \u001b[1;33m\u001b[0m\u001b[0m\n\u001b[0;32m     14\u001b[0m \u001b[1;32mdef\u001b[0m \u001b[0msoftmax\u001b[0m\u001b[1;33m(\u001b[0m\u001b[0mx\u001b[0m\u001b[1;33m)\u001b[0m\u001b[1;33m:\u001b[0m\u001b[1;33m\u001b[0m\u001b[1;33m\u001b[0m\u001b[0m\n\u001b[1;32m---> 15\u001b[1;33m    \u001b[0mexp_x\u001b[0m \u001b[1;33m=\u001b[0m \u001b[0mnp\u001b[0m\u001b[1;33m.\u001b[0m\u001b[0mexp\u001b[0m\u001b[1;33m(\u001b[0m\u001b[0mx\u001b[0m \u001b[1;33m-\u001b[0m \u001b[0mnp\u001b[0m\u001b[1;33m.\u001b[0m\u001b[0mmax\u001b[0m\u001b[1;33m(\u001b[0m\u001b[0mx\u001b[0m\u001b[1;33m,\u001b[0m \u001b[0maxis\u001b[0m \u001b[1;33m=\u001b[0m \u001b[1;36m0\u001b[0m\u001b[1;33m)\u001b[0m\u001b[1;33m)\u001b[0m\u001b[1;33m\u001b[0m\u001b[1;33m\u001b[0m\u001b[0m\n\u001b[0m\u001b[0;32m     16\u001b[0m    \u001b[1;32mreturn\u001b[0m \u001b[0mexp_x\u001b[0m \u001b[1;33m/\u001b[0m \u001b[0mnp\u001b[0m\u001b[1;33m.\u001b[0m\u001b[0msum\u001b[0m\u001b[1;33m(\u001b[0m\u001b[0mexp_x\u001b[0m\u001b[1;33m)\u001b[0m\u001b[1;33m\u001b[0m\u001b[1;33m\u001b[0m\u001b[0m\n\u001b[0;32m     17\u001b[0m \u001b[1;33m\u001b[0m\u001b[0m\n",
      "\u001b[1;32m~\\Anaconda3\\lib\\site-packages\\numpy\\core\\fromnumeric.py\u001b[0m in \u001b[0;36mamax\u001b[1;34m(a, axis, out, keepdims, initial)\u001b[0m\n\u001b[0;32m   2503\u001b[0m     \"\"\"\n\u001b[0;32m   2504\u001b[0m     return _wrapreduction(a, np.maximum, 'max', axis, None, out, keepdims=keepdims,\n\u001b[1;32m-> 2505\u001b[1;33m                           initial=initial)\n\u001b[0m\u001b[0;32m   2506\u001b[0m \u001b[1;33m\u001b[0m\u001b[0m\n\u001b[0;32m   2507\u001b[0m \u001b[1;33m\u001b[0m\u001b[0m\n",
      "\u001b[1;32m~\\Anaconda3\\lib\\site-packages\\numpy\\core\\fromnumeric.py\u001b[0m in \u001b[0;36m_wrapreduction\u001b[1;34m(obj, ufunc, method, axis, dtype, out, **kwargs)\u001b[0m\n\u001b[0;32m     84\u001b[0m                 \u001b[1;32mreturn\u001b[0m \u001b[0mreduction\u001b[0m\u001b[1;33m(\u001b[0m\u001b[0maxis\u001b[0m\u001b[1;33m=\u001b[0m\u001b[0maxis\u001b[0m\u001b[1;33m,\u001b[0m \u001b[0mout\u001b[0m\u001b[1;33m=\u001b[0m\u001b[0mout\u001b[0m\u001b[1;33m,\u001b[0m \u001b[1;33m**\u001b[0m\u001b[0mpasskwargs\u001b[0m\u001b[1;33m)\u001b[0m\u001b[1;33m\u001b[0m\u001b[1;33m\u001b[0m\u001b[0m\n\u001b[0;32m     85\u001b[0m \u001b[1;33m\u001b[0m\u001b[0m\n\u001b[1;32m---> 86\u001b[1;33m     \u001b[1;32mreturn\u001b[0m \u001b[0mufunc\u001b[0m\u001b[1;33m.\u001b[0m\u001b[0mreduce\u001b[0m\u001b[1;33m(\u001b[0m\u001b[0mobj\u001b[0m\u001b[1;33m,\u001b[0m \u001b[0maxis\u001b[0m\u001b[1;33m,\u001b[0m \u001b[0mdtype\u001b[0m\u001b[1;33m,\u001b[0m \u001b[0mout\u001b[0m\u001b[1;33m,\u001b[0m \u001b[1;33m**\u001b[0m\u001b[0mpasskwargs\u001b[0m\u001b[1;33m)\u001b[0m\u001b[1;33m\u001b[0m\u001b[1;33m\u001b[0m\u001b[0m\n\u001b[0m\u001b[0;32m     87\u001b[0m \u001b[1;33m\u001b[0m\u001b[0m\n\u001b[0;32m     88\u001b[0m \u001b[1;33m\u001b[0m\u001b[0m\n",
      "\u001b[1;31mKeyboardInterrupt\u001b[0m: "
     ]
    }
   ],
   "source": [
    "np.random.seed(42)\n",
    "L3 = DNN([784,512,10],initialization=\"normal\", \n",
    "           activation_function=leakyReLU, activation_function_derivative=leakyReLU_d)\n",
    "L3.train(X_train, y_train, epochs= 250, m= 500, learning_rate= 1, X_test = X_test,y_test= y_test)"
   ]
  },
  {
   "cell_type": "code",
   "execution_count": 23,
   "metadata": {
    "collapsed": true,
    "jupyter": {
     "outputs_hidden": true
    }
   },
   "outputs": [
    {
     "name": "stdout",
     "output_type": "stream",
     "text": [
      "===Epoch  10 ===250\n",
      "Training Error:  0.20908333333333334\n",
      "Training Loss:  7494.968207814904\n",
      "Testing Error:   0.21636615811373092\n",
      "===Epoch  20 === 250\n",
      "Training Error:  0.07958333333333334\n",
      "Training Loss:  2994.5720620705983\n",
      "Testing Error:   0.09240638002773925\n",
      "===Epoch  30 === 250\n",
      "Training Error:  0.034666666666666665\n",
      "Training Loss:  1532.491465882599\n",
      "Testing Error:   0.05669209431345354\n",
      "===Epoch  40 === 250\n",
      "Training Error:  0.01325\n",
      "Training Loss:  733.0330418805297\n",
      "Testing Error:   0.041435506241331486\n",
      "===Epoch  50 === 250\n",
      "Training Error:  0.006416666666666667\n",
      "Training Loss:  389.78117121293974\n",
      "Testing Error:   0.03346047156726768\n",
      "===Epoch  60 === 250\n",
      "Training Error:  0.0031666666666666666\n",
      "Training Loss:  247.08827371151435\n",
      "Testing Error:   0.032246879334257975\n",
      "===Epoch  70 === 250\n",
      "Training Error:  0.0030833333333333333\n",
      "Training Loss:  356.38835944681216\n",
      "Testing Error:   0.03138002773925104\n",
      "===Epoch  80 === 250\n",
      "Training Error:  0.002916666666666667\n",
      "Training Loss:  142.72160485420045\n",
      "Testing Error:   0.03623439667128987\n",
      "===Epoch  90 === 250\n",
      "Training Error:  0.0025833333333333333\n",
      "Training Loss:  89.93432913223994\n",
      "Testing Error:   0.036061026352288486\n",
      "===Epoch  100 ===250\n",
      "Training Error:  0.0020833333333333333\n",
      "Training Loss:  105.29233214680434\n",
      "Testing Error:   0.03744798890429958\n",
      "===Epoch  110 === 250\n",
      "Training Error:  0.003\n",
      "Training Loss:  127.21973534091853\n",
      "Testing Error:   0.03536754507628294\n",
      "===Epoch  120 === 250\n",
      "Training Error:  0.01525\n",
      "Training Loss:  984.6406493034275\n",
      "Testing Error:   0.05062413314840499\n",
      "===Epoch  130 === 250\n",
      "Training Error:  0.0020833333333333333\n",
      "Training Loss:  98.57512925130489\n",
      "Testing Error:   0.03952843273231623\n",
      "===Epoch  140 === 250\n",
      "Training Error:  0.002\n",
      "Training Loss:  85.05474308266719\n",
      "Testing Error:   0.03692787794729542\n",
      "===Epoch  150 === 250\n",
      "Training Error:  0.0025\n",
      "Training Loss:  146.6754629726386\n",
      "Testing Error:   0.03432732316227462\n",
      "===Epoch  160 === 250\n",
      "Training Error:  0.0016666666666666668\n",
      "Training Loss:  96.1739259860437\n",
      "Testing Error:   0.036061026352288486\n",
      "===Epoch  170 === 250\n",
      "Training Error:  0.0003333333333333333\n",
      "Training Loss:  71.4998812644779\n",
      "Testing Error:   0.03033980582524272\n",
      "===Epoch  180 === 250\n",
      "Training Error:  0.006833333333333334\n",
      "Training Loss:  521.3716097324583\n",
      "Testing Error:   0.04230235783633842\n",
      "===Epoch  190 === 250\n",
      "Training Error:  0.0006666666666666666\n",
      "Training Loss:  39.5039571809154\n",
      "Testing Error:   0.03155339805825243\n",
      "===Epoch  200 === 250\n",
      "Training Error:  0.0004166666666666667\n",
      "Training Loss:  42.647682821662116\n",
      "Testing Error:   0.030166435506241332\n",
      "===Epoch  210 === 250\n",
      "Training Error:  8.333333333333333e-05\n",
      "Training Loss:  8.3674880140816\n",
      "Testing Error:   0.029299583911234398\n",
      "===Epoch  220 === 250\n",
      "Training Error:  8.333333333333333e-05\n",
      "Training Loss:  28.373692161521962\n",
      "Testing Error:   0.027739251040221916\n",
      "===Epoch  230 === 250\n",
      "Training Error:  8.333333333333333e-05\n",
      "Training Loss:  6.814266165669533\n",
      "Testing Error:   0.027739251040221916\n",
      "===Epoch  240 === 250\n",
      "Training Error:  8.333333333333333e-05\n",
      "Training Loss:  28.065962273947612\n",
      "Testing Error:   0.028259361997226076\n",
      "===Epoch  250 === 250\n",
      "Training Error:  8.333333333333333e-05\n",
      "Training Loss:  9.622375234914674\n",
      "Testing Error:   0.027912621359223302\n"
     ]
    }
   ],
   "source": [
    "np.random.seed(42)\n",
    "L3_a = DNN([784,512,10],initialization=\"normal\", \n",
    "           activation_function=leakyReLU, activation_function_derivative=leakyReLU_d)\n",
    "L3_a.train(X_train, y_train, epochs= 250, m= 500, learning_rate= 0.001, X_test = X_test,y_test= y_test, Adam = True)"
   ]
  },
  {
   "cell_type": "code",
   "execution_count": 48,
   "metadata": {
    "collapsed": true,
    "jupyter": {
     "outputs_hidden": true
    }
   },
   "outputs": [
    {
     "name": "stderr",
     "output_type": "stream",
     "text": [
      "C:\\Users\\chern\\Anaconda3\\lib\\site-packages\\ipykernel_launcher.py:20: RuntimeWarning: divide by zero encountered in log\n",
      "C:\\Users\\chern\\Anaconda3\\lib\\site-packages\\ipykernel_launcher.py:20: RuntimeWarning: invalid value encountered in multiply\n"
     ]
    },
    {
     "name": "stdout",
     "output_type": "stream",
     "text": [
      "===Epoch  10 ===250\n",
      "Training Error:  0.80575\n",
      "Training Loss:  1.7976931348623157e+308\n",
      "Testing Error:   0.8124133148404993\n",
      "===Epoch  20 === 250\n",
      "Training Error:  0.26908333333333334\n",
      "Training Loss:  240107.51306583645\n",
      "Testing Error:   0.2817267683772538\n",
      "===Epoch  30 === 250\n",
      "Training Error:  0.11225\n",
      "Training Loss:  74867.42336008365\n",
      "Testing Error:   0.1463245492371706\n",
      "===Epoch  40 === 250\n",
      "Training Error:  0.05025\n",
      "Training Loss:  22425.633598736596\n",
      "Testing Error:   0.10991678224687934\n",
      "===Epoch  50 === 250\n",
      "Training Error:  0.013333333333333334\n",
      "Training Loss:  3649.55716608185\n",
      "Testing Error:   0.0865117891816921\n",
      "===Epoch  60 === 250\n",
      "Training Error:  0.0036666666666666666\n",
      "Training Loss:  1021.6920217457348\n",
      "Testing Error:   0.07506934812760055\n",
      "===Epoch  70 === 250\n",
      "Training Error:  0.005833333333333334\n",
      "Training Loss:  1317.0048872615098\n",
      "Testing Error:   0.06570735090152566\n",
      "===Epoch  80 === 250\n",
      "Training Error:  0.0069166666666666664\n",
      "Training Loss:  2657.6481921313652\n",
      "Testing Error:   0.06553398058252427\n",
      "===Epoch  90 === 250\n",
      "Training Error:  0.0035\n",
      "Training Loss:  986.5294696610815\n",
      "Testing Error:   0.05617198335644938\n",
      "===Epoch  100 ===250\n",
      "Training Error:  0.0035833333333333333\n",
      "Training Loss:  688.2347588652069\n",
      "Testing Error:   0.05651872399445215\n",
      "===Epoch  110 === 250\n",
      "Training Error:  0.0025833333333333333\n",
      "Training Loss:  883.0264606341591\n",
      "Testing Error:   0.0544382801664355\n",
      "===Epoch  120 === 250\n",
      "Training Error:  0.00275\n",
      "Training Loss:  737.8802414422349\n",
      "Testing Error:   0.05062413314840499\n",
      "===Epoch  130 === 250\n",
      "Training Error:  0.004583333333333333\n",
      "Training Loss:  1825.4233402109332\n",
      "Testing Error:   0.04906380027739251\n",
      "===Epoch  140 === 250\n",
      "Training Error:  0.0019166666666666666\n",
      "Training Loss:  283.12371514854925\n",
      "Testing Error:   0.04420943134535368\n",
      "===Epoch  150 === 250\n",
      "Training Error:  0.0025\n",
      "Training Loss:  1267.9982192113155\n",
      "Testing Error:   0.04403606102635229\n",
      "===Epoch  160 === 250\n",
      "Training Error:  0.004666666666666667\n",
      "Training Loss:  2285.57677497152\n",
      "Testing Error:   0.04837031900138696\n",
      "===Epoch  170 === 250\n",
      "Training Error:  0.0023333333333333335\n",
      "Training Loss:  979.6921924545915\n",
      "Testing Error:   0.04611650485436893\n",
      "===Epoch  180 === 250\n",
      "Training Error:  0.0020833333333333333\n",
      "Training Loss:  480.8714454530344\n",
      "Testing Error:   0.044902912621359224\n",
      "===Epoch  190 === 250\n",
      "Training Error:  0.0005\n",
      "Training Loss:  1.7976931348623157e+308\n",
      "Testing Error:   0.039355062413314844\n",
      "===Epoch  200 === 250\n",
      "Training Error:  0.0004166666666666667\n",
      "Training Loss:  152.736543885338\n",
      "Testing Error:   0.03918169209431346\n",
      "===Epoch  210 === 250\n",
      "Training Error:  0.0005833333333333334\n",
      "Training Loss:  147.1776085552631\n",
      "Testing Error:   0.04056865464632455\n",
      "===Epoch  220 === 250\n",
      "Training Error:  0.0014166666666666668\n",
      "Training Loss:  809.865548936884\n",
      "Testing Error:   0.042649098474341195\n",
      "===Epoch  230 === 250\n",
      "Training Error:  0.002916666666666667\n",
      "Training Loss:  1086.3956565729336\n",
      "Testing Error:   0.04282246879334258\n",
      "===Epoch  240 === 250\n",
      "Training Error:  0.0005833333333333334\n",
      "Training Loss:  586.2116091964783\n",
      "Testing Error:   0.0384882108183079\n",
      "===Epoch  250 === 250\n",
      "Training Error:  0.0023333333333333335\n",
      "Training Loss:  640.2634077565173\n",
      "Testing Error:   0.04472954230235784\n"
     ]
    }
   ],
   "source": [
    "np.random.seed(42)\n",
    "L3_aN = DNN([784,512,10],initialization=\"normal_01\", \n",
    "           activation_function=leakyReLU, activation_function_derivative=leakyReLU_d)\n",
    "L3_aN.train(X_train, y_train, epochs= 250, m= 500, learning_rate= 0.001, X_test = X_test,y_test= y_test, Adam = True)"
   ]
  },
  {
   "cell_type": "code",
   "execution_count": 24,
   "metadata": {
    "collapsed": true,
    "jupyter": {
     "outputs_hidden": true
    }
   },
   "outputs": [
    {
     "name": "stdout",
     "output_type": "stream",
     "text": [
      "===Epoch  10 ===250\n",
      "Training Error:  0.889\n",
      "Training Loss:  27601.896974200943\n",
      "Testing Error:   0.8848821081830791\n",
      "===Epoch  20 === 250\n",
      "Training Error:  0.87725\n",
      "Training Loss:  27539.324414359875\n",
      "Testing Error:   0.8854022191400832\n",
      "===Epoch  30 === 250\n",
      "Training Error:  0.87725\n",
      "Training Loss:  27490.92157316071\n",
      "Testing Error:   0.8854022191400832\n",
      "===Epoch  40 === 250\n",
      "Training Error:  0.87725\n",
      "Training Loss:  27477.703180301836\n",
      "Testing Error:   0.8854022191400832\n",
      "===Epoch  50 === 250\n",
      "Training Error:  0.87725\n",
      "Training Loss:  27477.047459752477\n",
      "Testing Error:   0.8854022191400832\n",
      "===Epoch  60 === 250\n",
      "Training Error:  0.87725\n",
      "Training Loss:  27476.592119863068\n",
      "Testing Error:   0.8854022191400832\n",
      "===Epoch  70 === 250\n",
      "Training Error:  0.87725\n",
      "Training Loss:  27476.101632941703\n",
      "Testing Error:   0.8854022191400832\n",
      "===Epoch  80 === 250\n",
      "Training Error:  0.87725\n",
      "Training Loss:  27476.447183720436\n",
      "Testing Error:   0.8854022191400832\n",
      "===Epoch  90 === 250\n",
      "Training Error:  0.87725\n",
      "Training Loss:  27476.067284600642\n",
      "Testing Error:   0.8854022191400832\n",
      "===Epoch  100 ===250\n",
      "Training Error:  0.87725\n",
      "Training Loss:  27476.479826464627\n",
      "Testing Error:   0.8854022191400832\n",
      "===Epoch  110 === 250\n",
      "Training Error:  0.87725\n",
      "Training Loss:  27476.20611183774\n",
      "Testing Error:   0.8854022191400832\n",
      "===Epoch  120 === 250\n",
      "Training Error:  0.87725\n",
      "Training Loss:  27476.066264154804\n",
      "Testing Error:   0.8854022191400832\n",
      "===Epoch  130 === 250\n",
      "Training Error:  0.87725\n",
      "Training Loss:  27476.012481763937\n",
      "Testing Error:   0.8854022191400832\n",
      "===Epoch  140 === 250\n",
      "Training Error:  0.87725\n",
      "Training Loss:  27476.404161381106\n",
      "Testing Error:   0.8854022191400832\n",
      "===Epoch  150 === 250\n",
      "Training Error:  0.87725\n",
      "Training Loss:  27476.510707672634\n",
      "Testing Error:   0.8854022191400832\n",
      "===Epoch  160 === 250\n",
      "Training Error:  0.87725\n",
      "Training Loss:  27476.61455756602\n",
      "Testing Error:   0.8854022191400832\n",
      "===Epoch  170 === 250\n",
      "Training Error:  0.87725\n",
      "Training Loss:  27476.003717891803\n",
      "Testing Error:   0.8854022191400832\n",
      "===Epoch  180 === 250\n",
      "Training Error:  0.87725\n",
      "Training Loss:  27475.92582626605\n",
      "Testing Error:   0.8854022191400832\n",
      "===Epoch  190 === 250\n",
      "Training Error:  0.87725\n",
      "Training Loss:  27476.247135392194\n",
      "Testing Error:   0.8854022191400832\n",
      "===Epoch  200 === 250\n",
      "Training Error:  0.87725\n",
      "Training Loss:  27476.43666496318\n",
      "Testing Error:   0.8854022191400832\n",
      "===Epoch  210 === 250\n",
      "Training Error:  0.87725\n",
      "Training Loss:  27475.996740924926\n",
      "Testing Error:   0.8854022191400832\n",
      "===Epoch  220 === 250\n",
      "Training Error:  0.87725\n",
      "Training Loss:  27476.131371568\n",
      "Testing Error:   0.8854022191400832\n",
      "===Epoch  230 === 250\n",
      "Training Error:  0.87725\n",
      "Training Loss:  27476.270325939582\n",
      "Testing Error:   0.8854022191400832\n",
      "===Epoch  240 === 250\n",
      "Training Error:  0.87725\n",
      "Training Loss:  27476.370724034412\n",
      "Testing Error:   0.8854022191400832\n",
      "===Epoch  250 === 250\n",
      "Training Error:  0.87725\n",
      "Training Loss:  27476.14385739719\n",
      "Testing Error:   0.8854022191400832\n"
     ]
    }
   ],
   "source": [
    "np.random.seed(42)\n",
    "L_z = DNN([784,512,10],initialization=\"zero\", \n",
    "           activation_function=leakyReLU, activation_function_derivative=leakyReLU_d)\n",
    "L_z.train(X_train, y_train, epochs= 250, m= 500, learning_rate= 0.001, X_test = X_test,y_test= y_test, Adam = True)"
   ]
  },
  {
   "cell_type": "code",
   "execution_count": 35,
   "metadata": {
    "collapsed": true,
    "jupyter": {
     "outputs_hidden": true
    }
   },
   "outputs": [
    {
     "name": "stdout",
     "output_type": "stream",
     "text": [
      "===Epoch  10 ===250\n",
      "Training Error:  0.13933333333333334\n",
      "Training Loss:  5055.215906202382\n",
      "Testing Error:   0.1459778085991678\n",
      "===Epoch  20 === 250\n",
      "Training Error:  0.06175\n",
      "Training Loss:  2519.264734962836\n",
      "Testing Error:   0.07801664355062413\n",
      "===Epoch  30 === 250\n",
      "Training Error:  0.026\n",
      "Training Loss:  1182.3541954449236\n",
      "Testing Error:   0.049930651872399444\n",
      "===Epoch  40 === 250\n",
      "Training Error:  0.010166666666666666\n",
      "Training Loss:  532.7440721068815\n",
      "Testing Error:   0.035020804438280165\n",
      "===Epoch  50 === 250\n",
      "Training Error:  0.004416666666666667\n",
      "Training Loss:  318.09249647279904\n",
      "Testing Error:   0.033287101248266296\n",
      "===Epoch  60 === 250\n",
      "Training Error:  0.0030833333333333333\n",
      "Training Loss:  262.43005077533525\n",
      "Testing Error:   0.03484743411927878\n",
      "===Epoch  70 === 250\n",
      "Training Error:  0.003416666666666667\n",
      "Training Loss:  209.9903359326832\n",
      "Testing Error:   0.03346047156726768\n",
      "===Epoch  80 === 250\n",
      "Training Error:  0.002416666666666667\n",
      "Training Loss:  133.33463257701828\n",
      "Testing Error:   0.03346047156726768\n",
      "===Epoch  90 === 250\n",
      "Training Error:  0.0031666666666666666\n",
      "Training Loss:  111.49134111572567\n",
      "Testing Error:   0.03259361997226075\n",
      "===Epoch  100 ===250\n",
      "Training Error:  0.003833333333333333\n",
      "Training Loss:  221.00597481619053\n",
      "Testing Error:   0.03866158113730929\n",
      "===Epoch  110 === 250\n",
      "Training Error:  0.0020833333333333333\n",
      "Training Loss:  104.18630442481481\n",
      "Testing Error:   0.035540915395284325\n",
      "===Epoch  120 === 250\n",
      "Training Error:  0.015416666666666667\n",
      "Training Loss:  806.5071480758747\n",
      "Testing Error:   0.05357142857142857\n",
      "===Epoch  130 === 250\n",
      "Training Error:  0.0005\n",
      "Training Loss:  30.167969491318967\n",
      "Testing Error:   0.031206657420249653\n",
      "===Epoch  140 === 250\n",
      "Training Error:  0.0035833333333333333\n",
      "Training Loss:  225.07836626444393\n",
      "Testing Error:   0.03536754507628294\n",
      "===Epoch  150 === 250\n",
      "Training Error:  0.00016666666666666666\n",
      "Training Loss:  35.60309501862618\n",
      "Testing Error:   0.028952843273231624\n",
      "===Epoch  160 === 250\n",
      "Training Error:  8.333333333333333e-05\n",
      "Training Loss:  38.526799107672545\n",
      "Testing Error:   0.026872399445214978\n",
      "===Epoch  170 === 250\n",
      "Training Error:  8.333333333333333e-05\n",
      "Training Loss:  19.704756419505685\n",
      "Testing Error:   0.02565880721220527\n",
      "===Epoch  180 === 250\n",
      "Training Error:  8.333333333333333e-05\n",
      "Training Loss:  2.3409263426268985\n",
      "Testing Error:   0.025832177531206656\n",
      "===Epoch  190 === 250\n",
      "Training Error:  0.008333333333333333\n",
      "Training Loss:  628.3941677914333\n",
      "Testing Error:   0.04351595006934813\n",
      "===Epoch  200 === 250\n",
      "Training Error:  0.004666666666666667\n",
      "Training Loss:  243.058047819802\n",
      "Testing Error:   0.038314840499306516\n",
      "===Epoch  210 === 250\n",
      "Training Error:  0.010666666666666666\n",
      "Training Loss:  496.1232573536344\n",
      "Testing Error:   0.04854368932038835\n",
      "===Epoch  220 === 250\n",
      "Training Error:  0.00016666666666666666\n",
      "Training Loss:  5.10806955313363\n",
      "Testing Error:   0.02808599167822469\n",
      "===Epoch  230 === 250\n",
      "Training Error:  8.333333333333333e-05\n",
      "Training Loss:  11.915979585420356\n",
      "Testing Error:   0.028259361997226076\n",
      "===Epoch  240 === 250\n",
      "Training Error:  8.333333333333333e-05\n",
      "Training Loss:  6.894966543239615\n",
      "Testing Error:   0.028259361997226076\n",
      "===Epoch  250 === 250\n",
      "Training Error:  0.00016666666666666666\n",
      "Training Loss:  21.206792250744414\n",
      "Testing Error:   0.028259361997226076\n"
     ]
    }
   ],
   "source": [
    "np.random.seed(42)\n",
    "L_U = DNN([784,512,10],initialization=\"uniform\", \n",
    "           activation_function=leakyReLU, activation_function_derivative=leakyReLU_d)\n",
    "L_U.train(X_train, y_train, epochs= 250, m= 500, learning_rate= 0.001, X_test = X_test,y_test= y_test, Adam = True)"
   ]
  },
  {
   "cell_type": "code",
   "execution_count": 27,
   "metadata": {
    "jupyter": {
     "outputs_hidden": true
    }
   },
   "outputs": [
    {
     "name": "stdout",
     "output_type": "stream",
     "text": [
      "===Epoch  10 ===20\n",
      "Training Error:  0.7808333333333334\n",
      "Training Loss:  26885.646515760058\n",
      "Testing Error:   0.7824202496532594\n",
      "===Epoch  20 === 20\n",
      "Training Error:  0.7513333333333333\n",
      "Training Loss:  22947.244154578915\n",
      "Testing Error:   0.7605755894590847\n"
     ]
    }
   ],
   "source": [
    "np.random.seed(42)\n",
    "DNN_epoch_20 = DNN([784,512,2,10],initialization=\"normal\", \n",
    "           activation_function=leakyReLU, activation_function_derivative=leakyReLU_d)\n",
    "DNN_epoch_20.train(X_train, y_train, epochs= 20, m= 500, learning_rate= 0.001, \n",
    "                   X_test = X_test,y_test= y_test, Adam = True)"
   ]
  },
  {
   "cell_type": "code",
   "execution_count": 28,
   "metadata": {
    "jupyter": {
     "outputs_hidden": true
    }
   },
   "outputs": [
    {
     "name": "stdout",
     "output_type": "stream",
     "text": [
      "===Epoch  10 ===80\n",
      "Training Error:  0.7808333333333334\n",
      "Training Loss:  26885.646515760058\n",
      "Testing Error:   0.7824202496532594\n",
      "===Epoch  20 === 80\n",
      "Training Error:  0.7513333333333333\n",
      "Training Loss:  22947.244154578915\n",
      "Testing Error:   0.7605755894590847\n",
      "===Epoch  30 === 80\n",
      "Training Error:  0.63425\n",
      "Training Loss:  18948.338499152338\n",
      "Testing Error:   0.6444174757281553\n",
      "===Epoch  40 === 80\n",
      "Training Error:  0.5844166666666667\n",
      "Training Loss:  15705.28424352738\n",
      "Testing Error:   0.5943134535367545\n",
      "===Epoch  50 === 80\n",
      "Training Error:  0.4548333333333333\n",
      "Training Loss:  13458.869423268581\n",
      "Testing Error:   0.48231622746185854\n",
      "===Epoch  60 === 80\n",
      "Training Error:  0.26975\n",
      "Training Loss:  10187.884863680258\n",
      "Testing Error:   0.2872746185852982\n",
      "===Epoch  70 === 80\n",
      "Training Error:  0.1635\n",
      "Training Loss:  7009.756972948414\n",
      "Testing Error:   0.18585298196948682\n",
      "===Epoch  80 === 80\n",
      "Training Error:  0.11216666666666666\n",
      "Training Loss:  4991.1389900095855\n",
      "Testing Error:   0.14424410540915394\n"
     ]
    }
   ],
   "source": [
    "np.random.seed(42)\n",
    "DNN_epoch_80 = DNN([784,512,2,10],initialization=\"normal\", \n",
    "           activation_function=leakyReLU, activation_function_derivative=leakyReLU_d)\n",
    "DNN_epoch_80.train(X_train, y_train, epochs= 80, m= 500, learning_rate= 0.001,\n",
    "                   X_test = X_test,y_test= y_test, Adam = True)"
   ]
  },
  {
   "cell_type": "markdown",
   "metadata": {},
   "source": [
    "# Question ii"
   ]
  },
  {
   "cell_type": "code",
   "execution_count": 49,
   "metadata": {
    "collapsed": true,
    "jupyter": {
     "outputs_hidden": true
    }
   },
   "outputs": [
    {
     "data": {
      "image/png": "[encoded data removed]",
      "text/plain": [
       "<Figure size 432x288 with 1 Axes>"
      ]
     },
     "metadata": {
      "needs_background": "light"
     },
     "output_type": "display_data"
    }
   ],
   "source": [
    "# training_error\n",
    "plt.plot(L3_a.training_error, label = \"Normal(0,0.001)\")\n",
    "plt.plot(L_z.training_error, label = \"Zeors\")\n",
    "plt.plot(L_U.training_error, label = \"Uniform\")\n",
    "plt.plot(L3_aN.training_error, label = \"Normal(0,1)\")\n",
    "plt.legend()\n",
    "plt.xlabel(\"Number of epochs\")\n",
    "plt.ylabel(\"Error rate\")\n",
    "plt.title(\"Training error rate\")\n",
    "plt.show()"
   ]
  },
  {
   "cell_type": "code",
   "execution_count": 50,
   "metadata": {
    "jupyter": {
     "outputs_hidden": true
    }
   },
   "outputs": [
    {
     "data": {
      "image/png": "[encoded data removed]",
      "text/plain": [
       "<Figure size 432x288 with 1 Axes>"
      ]
     },
     "metadata": {
      "needs_background": "light"
     },
     "output_type": "display_data"
    }
   ],
   "source": [
    "# testing_error\n",
    "plt.plot(L3_a.testing_error, label = \"Normal(0,0.001)\")\n",
    "plt.plot(L_z.testing_error, label = \"Zeors\")\n",
    "plt.plot(L_U.testing_error, label = \"Uniform\")\n",
    "plt.plot(L3_aN.testing_error, label = \"Normal(0,1)\")\n",
    "plt.legend()\n",
    "plt.xlabel(\"Number of epochs\")\n",
    "plt.ylabel(\"Error rate\")\n",
    "plt.title(\"Testing error rate\")\n",
    "plt.show()"
   ]
  },
  {
   "cell_type": "code",
   "execution_count": 87,
   "metadata": {
    "jupyter": {
     "outputs_hidden": true
    }
   },
   "outputs": [
    {
     "data": {
      "image/png": "[encoded data removed]",
      "text/plain": [
       "<Figure size 432x288 with 1 Axes>"
      ]
     },
     "metadata": {
      "needs_background": "light"
     },
     "output_type": "display_data"
    }
   ],
   "source": [
    "# training_loss\n",
    "plt.plot(L3_a.training_loss, label = \"Normal(0,0.001)\")\n",
    "plt.plot(L_z.training_loss, label = \"Zeors\")\n",
    "plt.plot(L_U.training_loss, label = \"Uniform\")\n",
    "plt.legend()\n",
    "plt.xlabel(\"Number of epochs\")\n",
    "plt.ylabel(\"Cross entropy\")\n",
    "plt.title(\"Training loss\")\n",
    "plt.show()"
   ]
  },
  {
   "cell_type": "markdown",
   "metadata": {},
   "source": [
    "# Question iii"
   ]
  },
  {
   "cell_type": "code",
   "execution_count": 29,
   "metadata": {
    "jupyter": {
     "outputs_hidden": true
    }
   },
   "outputs": [
    {
     "data": {
      "image/png": "[encoded data removed]",
      "text/plain": [
       "<Figure size 432x288 with 1 Axes>"
      ]
     },
     "metadata": {
      "needs_background": "light"
     },
     "output_type": "display_data"
    }
   ],
   "source": [
    "plot_latent_features(X_test[0:2000], y_test[0:2000], DNN_epoch_20, leakyReLU)"
   ]
  },
  {
   "cell_type": "code",
   "execution_count": 33,
   "metadata": {
    "jupyter": {
     "outputs_hidden": true
    }
   },
   "outputs": [
    {
     "data": {
      "image/png": "[encoded data removed]",
      "text/plain": [
       "<Figure size 432x288 with 1 Axes>"
      ]
     },
     "metadata": {
      "needs_background": "light"
     },
     "output_type": "display_data"
    }
   ],
   "source": [
    "plot_latent_features(X_test[0:2000], y_test[0:2000], DNN_epoch_80, leakyReLU)"
   ]
  },
  {
   "cell_type": "markdown",
   "metadata": {},
   "source": [
    "# Question iv"
   ]
  },
  {
   "cell_type": "code",
   "execution_count": 88,
   "metadata": {
    "jupyter": {
     "outputs_hidden": true
    }
   },
   "outputs": [
    {
     "name": "stdout",
     "output_type": "stream",
     "text": [
      "     0    1    2    3    4    5    6    7    8    9\n",
      "0  660    2    2    0    0    0    0    0    0    0\n",
      "1    4  655    2    0    0    0    0    0    0    0\n",
      "2    2    4  554   21    2    0    0    0    0    1\n",
      "3    0    0   32  562    1    2    1    0    2    0\n",
      "4    1    0    0    1  627    1    1    0    6   14\n",
      "5    0    0    0    0    1  401    2    2    0    1\n",
      "6    0    0    0    0    2    1  496    2    0    1\n",
      "7    1    0    2    2    2    2    4  435    0    1\n",
      "8    0    0    0    0    4    1    2    0  565    0\n",
      "9    0    0    2    1   20    0    2    2    1  650\n",
      "Accuracy:  0.9717406380027739\n"
     ]
    }
   ],
   "source": [
    "cfm(X_test, y_test, L4_a)"
   ]
  },
  {
   "cell_type": "code",
   "execution_count": null,
   "metadata": {},
   "outputs": [],
   "source": []
  }
 ],
 "metadata": {
  "kernelspec": {
   "display_name": "Python 3",
   "language": "python",
   "name": "python3"
  },
  "language_info": {
   "codemirror_mode": {
    "name": "ipython",
    "version": 3
   },
   "file_extension": ".py",
   "mimetype": "text/x-python",
   "name": "python",
   "nbconvert_exporter": "python",
   "pygments_lexer": "ipython3",
   "version": "3.7.4"
  },
  "toc": {
   "base_numbering": 1,
   "nav_menu": {},
   "number_sections": true,
   "sideBar": true,
   "skip_h1_title": false,
   "title_cell": "Table of Contents",
   "title_sidebar": "Contents",
   "toc_cell": false,
   "toc_position": {},
   "toc_section_display": true,
   "toc_window_display": false
  },
  "varInspector": {
   "cols": {
    "lenName": 16,
    "lenType": 16,
    "lenVar": 40
   },
   "kernels_config": {
    "python": {
     "delete_cmd_postfix": "",
     "delete_cmd_prefix": "del ",
     "library": "var_list.py",
     "varRefreshCmd": "print(var_dic_list())"
    },
    "r": {
     "delete_cmd_postfix": ") ",
     "delete_cmd_prefix": "rm(",
     "library": "var_list.r",
     "varRefreshCmd": "cat(var_dic_list()) "
    }
   },
   "types_to_exclude": [
    "module",
    "function",
    "builtin_function_or_method",
    "instance",
    "_Feature"
   ],
   "window_display": false
  }
 },
 "nbformat": 4,
 "nbformat_minor": 4
}
