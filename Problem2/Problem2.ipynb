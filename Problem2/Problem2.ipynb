{
 "cells": [
  {
   "cell_type": "code",
   "execution_count": 1,
   "metadata": {
    "ExecuteTime": {
     "end_time": "2020-05-14T17:19:21.966649Z",
     "start_time": "2020-05-14T17:19:16.659268Z"
    }
   },
   "outputs": [],
   "source": [
    "import numpy as np\n",
    "import pandas as pd\n",
    "import matplotlib.pyplot as plt\n",
    "from PIL import Image\n",
    "import os\n",
    "import tensorflow as tf\n",
    "from sklearn.metrics import confusion_matrix\n",
    "from copy import deepcopy"
   ]
  },
  {
   "cell_type": "markdown",
   "metadata": {},
   "source": [
    "# Function used"
   ]
  },
  {
   "cell_type": "code",
   "execution_count": 26,
   "metadata": {},
   "outputs": [],
   "source": [
    "def cfm(x, y, model):\n",
    "    flat = model.convolution(x)\n",
    "    yhat = model.feedForwardTest(flat)\n",
    "    pred = tf.argmax(yhat, axis = 1)\n",
    "    true = tf.argmax(y, axis = 1)\n",
    "    cfm = confusion_matrix(y_true= true, y_pred= pred)\n",
    "    return(cfm)\n",
    "\n",
    "    \n",
    "def each_class(x_trina, y_train, x_test, y_test, model):\n",
    "    cfm1 = cfm(x_trina, y_train, model)\n",
    "    cfm2 = cfm(x_test, y_test, model)\n",
    "    \n",
    "    each_class = {\n",
    "        \"good\": [cfm1[0][0]/cfm1[0].sum(), cfm2[0][0]/cfm2[0].sum()],\n",
    "        \"none\": [cfm1[1][1]/cfm1[1].sum(), cfm2[1][1]/cfm2[1].sum()],\n",
    "        \"bad\": [cfm1[2][2]/cfm1[2].sum(), cfm2[2][2]/cfm2[2].sum()]}\n",
    "    result = pd.DataFrame.from_dict(each_class, orient='index', columns= [\"Train Acc\", \"Test Acc\"])\n",
    "    print(result)"
   ]
  },
  {
   "cell_type": "markdown",
   "metadata": {},
   "source": [
    "# Data process"
   ]
  },
  {
   "cell_type": "code",
   "execution_count": null,
   "metadata": {},
   "outputs": [],
   "source": [
    "def data_process(data):\n",
    "    L = []\n",
    "    for filename, xmin, ymin, xmax, ymax \\\n",
    "        in zip(data[\"filename\"],data[\"xmin\"], data[\"ymin\"], data[\"xmax\"], data[\"ymax\"]):\n",
    "        path = os.path.join(\"problem2-CNN/images/\" + filename)\n",
    "        img = Image.open(path).convert(mode = \"RGB\").crop((xmin, ymin, xmax, ymax))\n",
    "        img = img.resize((80,80))\n",
    "        data_np = np.array(img).astype(np.float32) / 225.\n",
    "        L.append(data_np)\n",
    "    return L\n",
    "\n",
    "def onehot(y):\n",
    "    if y == \"good\":\n",
    "        return np.array([1,0,0])\n",
    "    elif y == \"bad\":\n",
    "        return np.array([0,0,1])\n",
    "    else:\n",
    "        return np.array([0,1,0])\n",
    "    \n",
    "X_train = data_process(train)\n",
    "X_test = data_process(test)\n",
    "\n",
    "y_train_label = list(train[\"label\"])\n",
    "y_test_label = list(test[\"label\"])"
   ]
  },
  {
   "cell_type": "code",
   "execution_count": 2,
   "metadata": {
    "ExecuteTime": {
     "end_time": "2020-05-14T17:19:23.447239Z",
     "start_time": "2020-05-14T17:19:23.083524Z"
    }
   },
   "outputs": [],
   "source": [
    "X_train = np.load(\"X_train.npy\")\n",
    "y_train = np.load(\"y_train.npy\")\n",
    "X_test = np.load(\"X_test.npy\")\n",
    "y_test = np.load(\"y_test.npy\")"
   ]
  },
  {
   "cell_type": "code",
   "execution_count": 5,
   "metadata": {
    "ExecuteTime": {
     "end_time": "2020-05-14T17:19:53.718743Z",
     "start_time": "2020-05-14T17:19:53.713791Z"
    }
   },
   "outputs": [
    {
     "data": {
      "text/plain": [
       "(3528, 80, 80, 3)"
      ]
     },
     "execution_count": 5,
     "metadata": {},
     "output_type": "execute_result"
    }
   ],
   "source": [
    "X_train.shape"
   ]
  },
  {
   "cell_type": "code",
   "execution_count": 45,
   "metadata": {},
   "outputs": [],
   "source": [
    "class CNN:\n",
    "    def __init__(self, fliter_num, fliter_size, img_size, units, strides = 1, k = 2):\n",
    "        random_Normal = tf.initializers.RandomNormal()\n",
    "        \n",
    "        # convolution\n",
    "        self.fliter_num = fliter_num # fliter [32, 64]\n",
    "        self.fliter_size = fliter_size # 5x5, 6x6\n",
    "        self.conv_num = len(fliter_num) # 2\n",
    "        self.channel = [3] + [fliter_num[i] for i in range(len(fliter_num))]\n",
    "        self.strides = strides\n",
    "        self.img_size = img_size # 80 means 80x80\n",
    "        \n",
    "        # max pooling\n",
    "        self.k = k\n",
    "        \n",
    "        # fully connected\n",
    "        self.units = [int((img_size / 2**len(fliter_num))**2*fliter_num[-1])] + units\n",
    "        self.flayers = len(units) + 1\n",
    "\n",
    "        # initialize parameters of convolution\n",
    "        self.cweights = [\n",
    "            tf.Variable(random_Normal(\n",
    "                [self.fliter_size[i][0], self.fliter_size[i][0], self.channel[i], self.fliter_num[i]]\n",
    "            ),trainable = True) for i in range(self.conv_num)]\n",
    "        \n",
    "        self.cbiases = [\n",
    "            tf.Variable(tf.zeros([self.channel[i + 1]]) ,trainable = True) for i in range(self.conv_num)]\n",
    "        \n",
    "        # initialize parameters of fully connected\n",
    "        self.fweights = [\n",
    "            tf.Variable(random_Normal(\n",
    "                [x, y]\n",
    "            ) ,trainable = True) for x, y in zip(self.units[:-1], self.units[1:])]\n",
    "        self.fbiases = [\n",
    "            tf.Variable(random_Normal(\n",
    "                [x] \n",
    "            ) ,trainable = True) for x in self.units[1:]]\n",
    "\n",
    "        # save information\n",
    "        self.training_acc = []\n",
    "        self.testing_acc = []\n",
    "        self.training_loss = []\n",
    "        \n",
    "#=====main start=====        \n",
    "    def train(self, X_train, y_train, epochs, m, X_test, y_test, dropout = True, balance = True):\n",
    "        self.epochs = epochs\n",
    "        self.m = m\n",
    "        self.dropout = dropout\n",
    "        self.balance = balance\n",
    "        optimizer = tf.optimizers.Adam(learning_rate = 0.001)\n",
    "        \n",
    "        # train & update weights\n",
    "        for epoch in range(epochs):\n",
    "            ind = np.random.permutation(range(len(X_train)))\n",
    "            for i in range(0, len(X_train), m):\n",
    "                mini_batch_ind = ind[i : i+m]\n",
    "                X_mini_batch = X_train[mini_batch_ind]\n",
    "                y_mini_batch = y_train[mini_batch_ind]\n",
    "                \n",
    "                with tf.GradientTape() as tape:\n",
    "                    flatten = self.convolution(X_mini_batch)\n",
    "                    prob = self.feedForwardTest(flatten)\n",
    "                    loss = self.crossEntropy(y_mini_batch, prob)\n",
    "                parameters = self.cweights + self.cbiases + self.fweights + self.fbiases\n",
    "                grades = tape.gradient(loss, parameters)\n",
    "                optimizer.apply_gradients(zip(grades, parameters))\n",
    "                \n",
    "            # training data info\n",
    "            flat_train = self.convolution(X_train)\n",
    "            yhat_train = self.feedForwardTest(flat_train)\n",
    "            loss = self.crossEntropy(y_train, yhat_train)\n",
    "            acc_train = self.countAcc(y_train, yhat_train)\n",
    "            \n",
    "            self.training_acc.append(acc_train)\n",
    "            self.training_loss.append(loss)\n",
    "            \n",
    "            # testing data info\n",
    "            flat_test = self.convolution(X_test)\n",
    "            yhat_test = self.feedForward(flat_test)\n",
    "            acc_test = self.countAcc(y_test, yhat_test)\n",
    "            \n",
    "            self.testing_acc.append(acc_test)\n",
    "            \n",
    "            print(\"+++Epoch+++ %d / %d\" %(epoch, epochs), end = '\\r')\n",
    "            if (epoch+1) % 10 == 0:\n",
    "                print(\"Epoch: %d, Training Accuracy: %f, Training Loss: %f, Testing Accuracy: %f\"\n",
    "                     %(epoch+1, self.training_acc[-1], self.training_loss[-1], self.testing_acc[-1]))\n",
    "#=====main end===== \n",
    "\n",
    "\n",
    "#=====convolution start=====\n",
    "    def convolution(self, x):\n",
    "        xs = [x]\n",
    "        for w, b in zip(self.cweights, self.cbiases):\n",
    "            conv_out = self.conv(xs[-1], w, b)\n",
    "            xs.append(self.maxPool(conv_out)) \n",
    "            # after convolution loop, xs[-1] will be the input of full connected\n",
    "        input_full = tf.reshape(xs[-1], [-1, self.units[0]])\n",
    "        return input_full\n",
    "    \n",
    "    def conv(self, x, w, b):\n",
    "        x = tf.nn.conv2d(\n",
    "            x, w, strides = [1, self.strides, self.strides, 1], \n",
    "            padding = \"SAME\")\n",
    "        x = tf.nn.bias_add(x, b)\n",
    "        return tf.nn.relu(x)\n",
    "    \n",
    "    def maxPool(self, x):\n",
    "        return tf.nn.max_pool(\n",
    "            x, ksize = [1, self.k, self.k, 1], \n",
    "            strides = [1, self.k, self.k, 1], padding = \"SAME\")\n",
    "#=====convolution end=====\n",
    "\n",
    "#=====full connected function start=====\n",
    "    def feedForward(self, x):\n",
    "        for w, b in zip(self.fweights, self.fbiases):\n",
    "            z = tf.add(tf.matmul(x, w), b)\n",
    "            x = tf.nn.relu(z)\n",
    "            if self.dropout:\n",
    "                x = tf.nn.dropout(x, rate = 0.5)\n",
    "        return tf.nn.softmax(z)\n",
    "#=====full connected function end=====\n",
    "    def crossEntropy(self, y_true, y_pred):\n",
    "        if self.balance:\n",
    "            class_weights = tf.constant([[1/3129, 1/126, 1/667]])\n",
    "            weighted = tf.reduce_sum(class_weights * y_true, axis = 1)\n",
    "            y_pred = tf.clip_by_value(y_pred, 1e-9, 1.)\n",
    "            #unweighted_loss =  tf.nn.softmax_cross_entropy_with_logits(labels=y_true, logits=y_pred)\n",
    "            unweighted_loss = -tf.reduce_sum(y_true * tf.math.log(y_pred))\n",
    "            weighted_loss = unweighted_loss * weighted\n",
    "            return tf.reduce_mean(weighted_loss)\n",
    "        else:\n",
    "            y_pred = tf.clip_by_value(y_pred, 1e-9, 1.)\n",
    "            return tf.reduce_mean(-tf.reduce_sum(y_true * tf.math.log(y_pred)))\n",
    "\n",
    "    def countAcc(self, y_true, y_pred):\n",
    "        acc = tf.equal(tf.argmax(y_pred, axis = 1), tf.argmax(y_true, axis = 1))\n",
    "        return tf.reduce_mean(tf.cast(acc, tf.float32), axis=0)\n",
    "    \n",
    "    def feedForwardTest(self, x):\n",
    "        for w, b in zip(self.fweights, self.fbiases):\n",
    "            z = tf.add(tf.matmul(x, w), b)\n",
    "            x = tf.nn.relu(z)\n",
    "        return tf.nn.softmax(z)"
   ]
  },
  {
   "cell_type": "code",
   "execution_count": 31,
   "metadata": {},
   "outputs": [
    {
     "name": "stdout",
     "output_type": "stream",
     "text": [
      "Epoch: 10, Training Accuracy: 0.992914, Training Loss: 79.369621, Testing Accuracy: 0.913706\n",
      "Epoch: 20, Training Accuracy: 1.000000, Training Loss: 4.482910, Testing Accuracy: 0.923858\n",
      "Epoch: 30, Training Accuracy: 1.000000, Training Loss: 0.090356, Testing Accuracy: 0.926396\n",
      "Epoch: 40, Training Accuracy: 1.000000, Training Loss: 0.033668, Testing Accuracy: 0.928934\n",
      "Epoch: 50, Training Accuracy: 1.000000, Training Loss: 0.015106, Testing Accuracy: 0.928934\n"
     ]
    }
   ],
   "source": [
    "x3 = CNN(fliter_num = [32, 32], fliter_size = ([[3,3], [3,3]]),\n",
    "         img_size = 80, k = 2,units = [1024, 512 ,3])\n",
    "x3.train(X_train, y_train,X_test = X_test, y_test = y_test,\n",
    "         epochs=50, m=100, dropout = False, balance = False)"
   ]
  },
  {
   "cell_type": "code",
   "execution_count": 44,
   "metadata": {},
   "outputs": [
    {
     "data": {
      "image/png": "[encoded data removed]",
      "text/plain": [
       "<Figure size 432x288 with 1 Axes>"
      ]
     },
     "metadata": {
      "needs_background": "light"
     },
     "output_type": "display_data"
    },
    {
     "name": "stdout",
     "output_type": "stream",
     "text": [
      "      Train Acc  Test Acc\n",
      "good        1.0  0.971731\n",
      "none        1.0  0.363636\n",
      "bad         1.0  0.932584\n",
      "      good  none  bad\n",
      "good   275     3    5\n",
      "none     7     8    7\n",
      "bad      5     1   83\n"
     ]
    }
   ],
   "source": [
    "plt.plot(x3.training_acc, label = \"Train\")\n",
    "plt.plot(x3.testing_acc, label = \"Test\")\n",
    "plt.plot(x9.training_acc, label = \"Train\")\n",
    "plt.plot(x9.testing_acc, label = \"Test\")\n",
    "plt.legend()\n",
    "plt.show()\n",
    "\n",
    "each_class(X_train, y_train, X_test, y_test, x3)\n",
    "\n",
    "print(pd.DataFrame(cfm(X_test, y_test, x3),\n",
    "            index = [\"good\", \"none\", \"bad\"],\n",
    "            columns = [\"good\", \"none\", \"bad\"]))"
   ]
  },
  {
   "cell_type": "code",
   "execution_count": 34,
   "metadata": {},
   "outputs": [
    {
     "name": "stdout",
     "output_type": "stream",
     "text": [
      "Epoch: 10, Training Accuracy: 0.806689, Training Loss: 14133.267578, Testing Accuracy: 0.718274\n",
      "Epoch: 20, Training Accuracy: 0.806689, Training Loss: 14133.267578, Testing Accuracy: 0.718274\n",
      "Epoch: 30, Training Accuracy: 0.806689, Training Loss: 14133.267578, Testing Accuracy: 0.718274\n",
      "Epoch: 40, Training Accuracy: 0.806689, Training Loss: 14133.267578, Testing Accuracy: 0.718274\n",
      "Epoch: 50, Training Accuracy: 0.806689, Training Loss: 14133.267578, Testing Accuracy: 0.718274\n"
     ]
    }
   ],
   "source": [
    "x9 = CNN(fliter_num = [32, 32], fliter_size = ([[9,9], [9,9]]),\n",
    "         img_size = 80, k = 2,units = [1024, 512 ,3])\n",
    "x9.train(X_train, y_train,X_test = X_test, y_test = y_test,\n",
    "         epochs=50, m=100, dropout = False, balance = False)"
   ]
  },
  {
   "cell_type": "code",
   "execution_count": 35,
   "metadata": {},
   "outputs": [
    {
     "data": {
      "image/png": "[encoded data removed]",
      "text/plain": [
       "<Figure size 432x288 with 1 Axes>"
      ]
     },
     "metadata": {
      "needs_background": "light"
     },
     "output_type": "display_data"
    },
    {
     "name": "stdout",
     "output_type": "stream",
     "text": [
      "      Train Acc  Test Acc\n",
      "good        1.0       1.0\n",
      "none        0.0       0.0\n",
      "bad         0.0       0.0\n"
     ]
    }
   ],
   "source": [
    "plt.plot(x9.training_acc, label = \"Train\")\n",
    "plt.plot(x9.testing_acc, label = \"Test\")\n",
    "plt.legend()\n",
    "plt.show()\n",
    "\n",
    "each_class(X_train, y_train, X_test, y_test, x9)"
   ]
  },
  {
   "cell_type": "code",
   "execution_count": 46,
   "metadata": {},
   "outputs": [
    {
     "name": "stdout",
     "output_type": "stream",
     "text": [
      "Epoch: 10, Training Accuracy: 0.981293, Training Loss: 163.489548, Testing Accuracy: 0.890863\n",
      "Epoch: 20, Training Accuracy: 0.999433, Training Loss: 9.390347, Testing Accuracy: 0.939086\n",
      "Epoch: 30, Training Accuracy: 0.998299, Training Loss: 13.073003, Testing Accuracy: 0.931472\n",
      "Epoch: 40, Training Accuracy: 1.000000, Training Loss: 0.097325, Testing Accuracy: 0.944162\n",
      "Epoch: 50, Training Accuracy: 1.000000, Training Loss: 0.022542, Testing Accuracy: 0.928934\n"
     ]
    }
   ],
   "source": [
    "np.random.seed(1)\n",
    "drop_true = CNN(fliter_num = [32, 32], fliter_size = ([[3,3], [3,3]]),\n",
    "         img_size = 80, k = 2,units = [1024, 512 ,3])\n",
    "drop_true.train(X_train, y_train,X_test = X_test, y_test = y_test,\n",
    "         epochs=50, m=100, dropout = True, balance = False)"
   ]
  },
  {
   "cell_type": "code",
   "execution_count": 51,
   "metadata": {},
   "outputs": [
    {
     "data": {
      "image/png": "[encoded data removed]",
      "text/plain": [
       "<Figure size 432x288 with 1 Axes>"
      ]
     },
     "metadata": {
      "needs_background": "light"
     },
     "output_type": "display_data"
    },
    {
     "name": "stdout",
     "output_type": "stream",
     "text": [
      "      Train Acc  Test Acc\n",
      "good        1.0  0.975265\n",
      "none        1.0  0.454545\n",
      "bad         1.0  0.955056\n"
     ]
    }
   ],
   "source": [
    "plt.plot(drop_true.training_acc, label = \"Train\")\n",
    "plt.plot(drop_true.testing_acc, label = \"Test\")\n",
    "plt.legend()\n",
    "plt.show()\n",
    "\n",
    "each_class(X_train, y_train, X_test, y_test, drop_true)"
   ]
  },
  {
   "cell_type": "code",
   "execution_count": 48,
   "metadata": {},
   "outputs": [
    {
     "name": "stdout",
     "output_type": "stream",
     "text": [
      "Epoch: 10, Training Accuracy: 0.986395, Training Loss: 0.096674, Testing Accuracy: 0.911168\n",
      "Epoch: 20, Training Accuracy: 0.994048, Training Loss: 0.048569, Testing Accuracy: 0.911168\n",
      "Epoch: 30, Training Accuracy: 1.000000, Training Loss: 0.000762, Testing Accuracy: 0.934010\n",
      "Epoch: 40, Training Accuracy: 1.000000, Training Loss: 0.000058, Testing Accuracy: 0.934010\n",
      "Epoch: 50, Training Accuracy: 1.000000, Training Loss: 0.000030, Testing Accuracy: 0.934010\n"
     ]
    }
   ],
   "source": [
    "balance_true = CNN(fliter_num = [32, 32], fliter_size = ([[3,3], [3,3]]),\n",
    "         img_size = 80, k = 2,units = [1024, 512 ,3])\n",
    "balance_true.train(X_train, y_train,X_test = X_test, y_test = y_test,\n",
    "         epochs=50, m=100, dropout = False, balance = True)"
   ]
  },
  {
   "cell_type": "code",
   "execution_count": 50,
   "metadata": {},
   "outputs": [
    {
     "data": {
      "image/png": "[encoded data removed]",
      "text/plain": [
       "<Figure size 432x288 with 1 Axes>"
      ]
     },
     "metadata": {
      "needs_background": "light"
     },
     "output_type": "display_data"
    },
    {
     "name": "stdout",
     "output_type": "stream",
     "text": [
      "      Train Acc  Test Acc\n",
      "good        1.0  0.964664\n",
      "none        1.0  0.454545\n",
      "bad         1.0  0.955056\n"
     ]
    }
   ],
   "source": [
    "plt.plot(balance_true.training_acc, label = \"Train\")\n",
    "plt.plot(balance_true.testing_acc, label = \"Test\")\n",
    "plt.legend()\n",
    "plt.show()\n",
    "\n",
    "each_class(X_train, y_train, X_test, y_test, balance_true)"
   ]
  },
  {
   "cell_type": "code",
   "execution_count": 52,
   "metadata": {},
   "outputs": [
    {
     "name": "stdout",
     "output_type": "stream",
     "text": [
      "Epoch: 10, Training Accuracy: 0.989796, Training Loss: 0.090195, Testing Accuracy: 0.926396\n",
      "Epoch: 20, Training Accuracy: 1.000000, Training Loss: 0.002168, Testing Accuracy: 0.923858\n",
      "Epoch: 30, Training Accuracy: 1.000000, Training Loss: 0.000099, Testing Accuracy: 0.934010\n",
      "Epoch: 40, Training Accuracy: 1.000000, Training Loss: 0.000042, Testing Accuracy: 0.939086\n",
      "Epoch: 50, Training Accuracy: 1.000000, Training Loss: 0.000022, Testing Accuracy: 0.916244\n"
     ]
    }
   ],
   "source": [
    "drop_balance_true = CNN(fliter_num = [32, 32], fliter_size = ([[3,3], [3,3]]),\n",
    "         img_size = 80, k = 2,units = [1024, 512 ,3])\n",
    "drop_balance_true.train(X_train, y_train,X_test = X_test, y_test = y_test,\n",
    "         epochs=50, m=100, dropout = True, balance = True)"
   ]
  },
  {
   "cell_type": "code",
   "execution_count": 53,
   "metadata": {},
   "outputs": [
    {
     "data": {
      "image/png": "[encoded data removed]",
      "text/plain": [
       "<Figure size 432x288 with 1 Axes>"
      ]
     },
     "metadata": {
      "needs_background": "light"
     },
     "output_type": "display_data"
    },
    {
     "name": "stdout",
     "output_type": "stream",
     "text": [
      "      Train Acc  Test Acc\n",
      "good        1.0  0.971731\n",
      "none        1.0  0.454545\n",
      "bad         1.0  0.943820\n"
     ]
    }
   ],
   "source": [
    "plt.plot(drop_balance_true.training_acc, label = \"Train\")\n",
    "plt.plot(drop_balance_true.testing_acc, label = \"Test\")\n",
    "plt.legend()\n",
    "plt.show()\n",
    "\n",
    "each_class(X_train, y_train, X_test, y_test, drop_balance_true)"
   ]
  },
  {
   "cell_type": "code",
   "execution_count": null,
   "metadata": {},
   "outputs": [],
   "source": []
  }
 ],
 "metadata": {
  "kernelspec": {
   "display_name": "Python 3",
   "language": "python",
   "name": "python3"
  },
  "language_info": {
   "codemirror_mode": {
    "name": "ipython",
    "version": 3
   },
   "file_extension": ".py",
   "mimetype": "text/x-python",
   "name": "python",
   "nbconvert_exporter": "python",
   "pygments_lexer": "ipython3",
   "version": "3.7.4"
  },
  "toc": {
   "base_numbering": 1,
   "nav_menu": {},
   "number_sections": true,
   "sideBar": true,
   "skip_h1_title": false,
   "title_cell": "Table of Contents",
   "title_sidebar": "Contents",
   "toc_cell": false,
   "toc_position": {},
   "toc_section_display": true,
   "toc_window_display": false
  },
  "varInspector": {
   "cols": {
    "lenName": 16,
    "lenType": 16,
    "lenVar": 40
   },
   "kernels_config": {
    "python": {
     "delete_cmd_postfix": "",
     "delete_cmd_prefix": "del ",
     "library": "var_list.py",
     "varRefreshCmd": "print(var_dic_list())"
    },
    "r": {
     "delete_cmd_postfix": ") ",
     "delete_cmd_prefix": "rm(",
     "library": "var_list.r",
     "varRefreshCmd": "cat(var_dic_list()) "
    }
   },
   "types_to_exclude": [
    "module",
    "function",
    "builtin_function_or_method",
    "instance",
    "_Feature"
   ],
   "window_display": false
  }
 },
 "nbformat": 4,
 "nbformat_minor": 4
}
